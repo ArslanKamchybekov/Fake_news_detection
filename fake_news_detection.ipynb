{
 "cells": [
  {
   "cell_type": "code",
   "execution_count": 3,
   "id": "f75316ee",
   "metadata": {},
   "outputs": [],
   "source": [
    "import numpy as np\n",
    "import pandas as pd\n",
    "\n",
    "from sklearn.model_selection import train_test_split\n",
    "from sklearn.feature_extraction.text import TfidfVectorizer\n",
    "from sklearn.svm import LinearSVC"
   ]
  },
  {
   "cell_type": "code",
   "execution_count": 4,
   "id": "2b863601",
   "metadata": {},
   "outputs": [],
   "source": [
    "data = pd.read_csv(\"fake_or_real_news.csv\")"
   ]
  },
  {
   "cell_type": "code",
   "execution_count": 5,
   "id": "b78549fa",
   "metadata": {},
   "outputs": [
    {
     "data": {
      "text/html": [
       "<div>\n",
       "<style scoped>\n",
       "    .dataframe tbody tr th:only-of-type {\n",
       "        vertical-align: middle;\n",
       "    }\n",
       "\n",
       "    .dataframe tbody tr th {\n",
       "        vertical-align: top;\n",
       "    }\n",
       "\n",
       "    .dataframe thead th {\n",
       "        text-align: right;\n",
       "    }\n",
       "</style>\n",
       "<table border=\"1\" class=\"dataframe\">\n",
       "  <thead>\n",
       "    <tr style=\"text-align: right;\">\n",
       "      <th></th>\n",
       "      <th>id</th>\n",
       "      <th>title</th>\n",
       "      <th>text</th>\n",
       "      <th>label</th>\n",
       "    </tr>\n",
       "  </thead>\n",
       "  <tbody>\n",
       "    <tr>\n",
       "      <th>0</th>\n",
       "      <td>8476</td>\n",
       "      <td>You Can Smell Hillary’s Fear</td>\n",
       "      <td>Daniel Greenfield, a Shillman Journalism Fello...</td>\n",
       "      <td>FAKE</td>\n",
       "    </tr>\n",
       "    <tr>\n",
       "      <th>1</th>\n",
       "      <td>10294</td>\n",
       "      <td>Watch The Exact Moment Paul Ryan Committed Pol...</td>\n",
       "      <td>Google Pinterest Digg Linkedin Reddit Stumbleu...</td>\n",
       "      <td>FAKE</td>\n",
       "    </tr>\n",
       "    <tr>\n",
       "      <th>2</th>\n",
       "      <td>3608</td>\n",
       "      <td>Kerry to go to Paris in gesture of sympathy</td>\n",
       "      <td>U.S. Secretary of State John F. Kerry said Mon...</td>\n",
       "      <td>REAL</td>\n",
       "    </tr>\n",
       "    <tr>\n",
       "      <th>3</th>\n",
       "      <td>10142</td>\n",
       "      <td>Bernie supporters on Twitter erupt in anger ag...</td>\n",
       "      <td>— Kaydee King (@KaydeeKing) November 9, 2016 T...</td>\n",
       "      <td>FAKE</td>\n",
       "    </tr>\n",
       "    <tr>\n",
       "      <th>4</th>\n",
       "      <td>875</td>\n",
       "      <td>The Battle of New York: Why This Primary Matters</td>\n",
       "      <td>It's primary day in New York and front-runners...</td>\n",
       "      <td>REAL</td>\n",
       "    </tr>\n",
       "    <tr>\n",
       "      <th>...</th>\n",
       "      <td>...</td>\n",
       "      <td>...</td>\n",
       "      <td>...</td>\n",
       "      <td>...</td>\n",
       "    </tr>\n",
       "    <tr>\n",
       "      <th>6330</th>\n",
       "      <td>4490</td>\n",
       "      <td>State Department says it can't find emails fro...</td>\n",
       "      <td>The State Department told the Republican Natio...</td>\n",
       "      <td>REAL</td>\n",
       "    </tr>\n",
       "    <tr>\n",
       "      <th>6331</th>\n",
       "      <td>8062</td>\n",
       "      <td>The ‘P’ in PBS Should Stand for ‘Plutocratic’ ...</td>\n",
       "      <td>The ‘P’ in PBS Should Stand for ‘Plutocratic’ ...</td>\n",
       "      <td>FAKE</td>\n",
       "    </tr>\n",
       "    <tr>\n",
       "      <th>6332</th>\n",
       "      <td>8622</td>\n",
       "      <td>Anti-Trump Protesters Are Tools of the Oligarc...</td>\n",
       "      <td>Anti-Trump Protesters Are Tools of the Oligar...</td>\n",
       "      <td>FAKE</td>\n",
       "    </tr>\n",
       "    <tr>\n",
       "      <th>6333</th>\n",
       "      <td>4021</td>\n",
       "      <td>In Ethiopia, Obama seeks progress on peace, se...</td>\n",
       "      <td>ADDIS ABABA, Ethiopia —President Obama convene...</td>\n",
       "      <td>REAL</td>\n",
       "    </tr>\n",
       "    <tr>\n",
       "      <th>6334</th>\n",
       "      <td>4330</td>\n",
       "      <td>Jeb Bush Is Suddenly Attacking Trump. Here's W...</td>\n",
       "      <td>Jeb Bush Is Suddenly Attacking Trump. Here's W...</td>\n",
       "      <td>REAL</td>\n",
       "    </tr>\n",
       "  </tbody>\n",
       "</table>\n",
       "<p>6335 rows × 4 columns</p>\n",
       "</div>"
      ],
      "text/plain": [
       "         id                                              title  \\\n",
       "0      8476                       You Can Smell Hillary’s Fear   \n",
       "1     10294  Watch The Exact Moment Paul Ryan Committed Pol...   \n",
       "2      3608        Kerry to go to Paris in gesture of sympathy   \n",
       "3     10142  Bernie supporters on Twitter erupt in anger ag...   \n",
       "4       875   The Battle of New York: Why This Primary Matters   \n",
       "...     ...                                                ...   \n",
       "6330   4490  State Department says it can't find emails fro...   \n",
       "6331   8062  The ‘P’ in PBS Should Stand for ‘Plutocratic’ ...   \n",
       "6332   8622  Anti-Trump Protesters Are Tools of the Oligarc...   \n",
       "6333   4021  In Ethiopia, Obama seeks progress on peace, se...   \n",
       "6334   4330  Jeb Bush Is Suddenly Attacking Trump. Here's W...   \n",
       "\n",
       "                                                   text label  \n",
       "0     Daniel Greenfield, a Shillman Journalism Fello...  FAKE  \n",
       "1     Google Pinterest Digg Linkedin Reddit Stumbleu...  FAKE  \n",
       "2     U.S. Secretary of State John F. Kerry said Mon...  REAL  \n",
       "3     — Kaydee King (@KaydeeKing) November 9, 2016 T...  FAKE  \n",
       "4     It's primary day in New York and front-runners...  REAL  \n",
       "...                                                 ...   ...  \n",
       "6330  The State Department told the Republican Natio...  REAL  \n",
       "6331  The ‘P’ in PBS Should Stand for ‘Plutocratic’ ...  FAKE  \n",
       "6332   Anti-Trump Protesters Are Tools of the Oligar...  FAKE  \n",
       "6333  ADDIS ABABA, Ethiopia —President Obama convene...  REAL  \n",
       "6334  Jeb Bush Is Suddenly Attacking Trump. Here's W...  REAL  \n",
       "\n",
       "[6335 rows x 4 columns]"
      ]
     },
     "execution_count": 5,
     "metadata": {},
     "output_type": "execute_result"
    }
   ],
   "source": [
    "data"
   ]
  },
  {
   "cell_type": "code",
   "execution_count": 6,
   "id": "79fbf603",
   "metadata": {},
   "outputs": [],
   "source": [
    "data['fake'] = data['label'].apply(lambda x: 0 if x == \"REAL\" else 1)"
   ]
  },
  {
   "cell_type": "code",
   "execution_count": 7,
   "id": "d609a76d",
   "metadata": {},
   "outputs": [
    {
     "data": {
      "text/html": [
       "<div>\n",
       "<style scoped>\n",
       "    .dataframe tbody tr th:only-of-type {\n",
       "        vertical-align: middle;\n",
       "    }\n",
       "\n",
       "    .dataframe tbody tr th {\n",
       "        vertical-align: top;\n",
       "    }\n",
       "\n",
       "    .dataframe thead th {\n",
       "        text-align: right;\n",
       "    }\n",
       "</style>\n",
       "<table border=\"1\" class=\"dataframe\">\n",
       "  <thead>\n",
       "    <tr style=\"text-align: right;\">\n",
       "      <th></th>\n",
       "      <th>id</th>\n",
       "      <th>title</th>\n",
       "      <th>text</th>\n",
       "      <th>label</th>\n",
       "      <th>fake</th>\n",
       "    </tr>\n",
       "  </thead>\n",
       "  <tbody>\n",
       "    <tr>\n",
       "      <th>0</th>\n",
       "      <td>8476</td>\n",
       "      <td>You Can Smell Hillary’s Fear</td>\n",
       "      <td>Daniel Greenfield, a Shillman Journalism Fello...</td>\n",
       "      <td>FAKE</td>\n",
       "      <td>1</td>\n",
       "    </tr>\n",
       "    <tr>\n",
       "      <th>1</th>\n",
       "      <td>10294</td>\n",
       "      <td>Watch The Exact Moment Paul Ryan Committed Pol...</td>\n",
       "      <td>Google Pinterest Digg Linkedin Reddit Stumbleu...</td>\n",
       "      <td>FAKE</td>\n",
       "      <td>1</td>\n",
       "    </tr>\n",
       "    <tr>\n",
       "      <th>2</th>\n",
       "      <td>3608</td>\n",
       "      <td>Kerry to go to Paris in gesture of sympathy</td>\n",
       "      <td>U.S. Secretary of State John F. Kerry said Mon...</td>\n",
       "      <td>REAL</td>\n",
       "      <td>0</td>\n",
       "    </tr>\n",
       "    <tr>\n",
       "      <th>3</th>\n",
       "      <td>10142</td>\n",
       "      <td>Bernie supporters on Twitter erupt in anger ag...</td>\n",
       "      <td>— Kaydee King (@KaydeeKing) November 9, 2016 T...</td>\n",
       "      <td>FAKE</td>\n",
       "      <td>1</td>\n",
       "    </tr>\n",
       "    <tr>\n",
       "      <th>4</th>\n",
       "      <td>875</td>\n",
       "      <td>The Battle of New York: Why This Primary Matters</td>\n",
       "      <td>It's primary day in New York and front-runners...</td>\n",
       "      <td>REAL</td>\n",
       "      <td>0</td>\n",
       "    </tr>\n",
       "    <tr>\n",
       "      <th>...</th>\n",
       "      <td>...</td>\n",
       "      <td>...</td>\n",
       "      <td>...</td>\n",
       "      <td>...</td>\n",
       "      <td>...</td>\n",
       "    </tr>\n",
       "    <tr>\n",
       "      <th>6330</th>\n",
       "      <td>4490</td>\n",
       "      <td>State Department says it can't find emails fro...</td>\n",
       "      <td>The State Department told the Republican Natio...</td>\n",
       "      <td>REAL</td>\n",
       "      <td>0</td>\n",
       "    </tr>\n",
       "    <tr>\n",
       "      <th>6331</th>\n",
       "      <td>8062</td>\n",
       "      <td>The ‘P’ in PBS Should Stand for ‘Plutocratic’ ...</td>\n",
       "      <td>The ‘P’ in PBS Should Stand for ‘Plutocratic’ ...</td>\n",
       "      <td>FAKE</td>\n",
       "      <td>1</td>\n",
       "    </tr>\n",
       "    <tr>\n",
       "      <th>6332</th>\n",
       "      <td>8622</td>\n",
       "      <td>Anti-Trump Protesters Are Tools of the Oligarc...</td>\n",
       "      <td>Anti-Trump Protesters Are Tools of the Oligar...</td>\n",
       "      <td>FAKE</td>\n",
       "      <td>1</td>\n",
       "    </tr>\n",
       "    <tr>\n",
       "      <th>6333</th>\n",
       "      <td>4021</td>\n",
       "      <td>In Ethiopia, Obama seeks progress on peace, se...</td>\n",
       "      <td>ADDIS ABABA, Ethiopia —President Obama convene...</td>\n",
       "      <td>REAL</td>\n",
       "      <td>0</td>\n",
       "    </tr>\n",
       "    <tr>\n",
       "      <th>6334</th>\n",
       "      <td>4330</td>\n",
       "      <td>Jeb Bush Is Suddenly Attacking Trump. Here's W...</td>\n",
       "      <td>Jeb Bush Is Suddenly Attacking Trump. Here's W...</td>\n",
       "      <td>REAL</td>\n",
       "      <td>0</td>\n",
       "    </tr>\n",
       "  </tbody>\n",
       "</table>\n",
       "<p>6335 rows × 5 columns</p>\n",
       "</div>"
      ],
      "text/plain": [
       "         id                                              title  \\\n",
       "0      8476                       You Can Smell Hillary’s Fear   \n",
       "1     10294  Watch The Exact Moment Paul Ryan Committed Pol...   \n",
       "2      3608        Kerry to go to Paris in gesture of sympathy   \n",
       "3     10142  Bernie supporters on Twitter erupt in anger ag...   \n",
       "4       875   The Battle of New York: Why This Primary Matters   \n",
       "...     ...                                                ...   \n",
       "6330   4490  State Department says it can't find emails fro...   \n",
       "6331   8062  The ‘P’ in PBS Should Stand for ‘Plutocratic’ ...   \n",
       "6332   8622  Anti-Trump Protesters Are Tools of the Oligarc...   \n",
       "6333   4021  In Ethiopia, Obama seeks progress on peace, se...   \n",
       "6334   4330  Jeb Bush Is Suddenly Attacking Trump. Here's W...   \n",
       "\n",
       "                                                   text label  fake  \n",
       "0     Daniel Greenfield, a Shillman Journalism Fello...  FAKE     1  \n",
       "1     Google Pinterest Digg Linkedin Reddit Stumbleu...  FAKE     1  \n",
       "2     U.S. Secretary of State John F. Kerry said Mon...  REAL     0  \n",
       "3     — Kaydee King (@KaydeeKing) November 9, 2016 T...  FAKE     1  \n",
       "4     It's primary day in New York and front-runners...  REAL     0  \n",
       "...                                                 ...   ...   ...  \n",
       "6330  The State Department told the Republican Natio...  REAL     0  \n",
       "6331  The ‘P’ in PBS Should Stand for ‘Plutocratic’ ...  FAKE     1  \n",
       "6332   Anti-Trump Protesters Are Tools of the Oligar...  FAKE     1  \n",
       "6333  ADDIS ABABA, Ethiopia —President Obama convene...  REAL     0  \n",
       "6334  Jeb Bush Is Suddenly Attacking Trump. Here's W...  REAL     0  \n",
       "\n",
       "[6335 rows x 5 columns]"
      ]
     },
     "execution_count": 7,
     "metadata": {},
     "output_type": "execute_result"
    }
   ],
   "source": [
    "data"
   ]
  },
  {
   "cell_type": "code",
   "execution_count": 8,
   "id": "e6f62064",
   "metadata": {},
   "outputs": [],
   "source": [
    "X,y = data['text'], data['fake']"
   ]
  },
  {
   "cell_type": "code",
   "execution_count": 9,
   "id": "afb54333",
   "metadata": {},
   "outputs": [
    {
     "data": {
      "text/plain": [
       "0       Daniel Greenfield, a Shillman Journalism Fello...\n",
       "1       Google Pinterest Digg Linkedin Reddit Stumbleu...\n",
       "2       U.S. Secretary of State John F. Kerry said Mon...\n",
       "3       — Kaydee King (@KaydeeKing) November 9, 2016 T...\n",
       "4       It's primary day in New York and front-runners...\n",
       "                              ...                        \n",
       "6330    The State Department told the Republican Natio...\n",
       "6331    The ‘P’ in PBS Should Stand for ‘Plutocratic’ ...\n",
       "6332     Anti-Trump Protesters Are Tools of the Oligar...\n",
       "6333    ADDIS ABABA, Ethiopia —President Obama convene...\n",
       "6334    Jeb Bush Is Suddenly Attacking Trump. Here's W...\n",
       "Name: text, Length: 6335, dtype: object"
      ]
     },
     "execution_count": 9,
     "metadata": {},
     "output_type": "execute_result"
    }
   ],
   "source": [
    "X"
   ]
  },
  {
   "cell_type": "code",
   "execution_count": 10,
   "id": "7c283523",
   "metadata": {},
   "outputs": [
    {
     "data": {
      "text/plain": [
       "0       1\n",
       "1       1\n",
       "2       0\n",
       "3       1\n",
       "4       0\n",
       "       ..\n",
       "6330    0\n",
       "6331    1\n",
       "6332    1\n",
       "6333    0\n",
       "6334    0\n",
       "Name: fake, Length: 6335, dtype: int64"
      ]
     },
     "execution_count": 10,
     "metadata": {},
     "output_type": "execute_result"
    }
   ],
   "source": [
    "y"
   ]
  },
  {
   "cell_type": "code",
   "execution_count": 11,
   "id": "c54a3a9d",
   "metadata": {},
   "outputs": [],
   "source": [
    "X_train, X_test, y_train, y_test = train_test_split(X, y, test_size = 0.2)"
   ]
  },
  {
   "cell_type": "code",
   "execution_count": 12,
   "id": "b11622a8",
   "metadata": {},
   "outputs": [
    {
     "data": {
      "text/plain": [
       "4180    The fate of the Affordable Care Act, the presi...\n",
       "1404    We Are Change \\n\\n \\nRemember, remember, the 5...\n",
       "4009    For a speech purporting to challenge Washingto...\n",
       "5294    Trump Promises ‘New Deal for Black America’ Be...\n",
       "4544    The Cosmic Story: Scorpio New Moon, October 30...\n",
       "                              ...                        \n",
       "1897    Share on Facebook \\nMoveOn.org is a George Sor...\n",
       "3307    On Wednesday, after defeat in Indiana, John Ka...\n",
       "777     Home › POLITICS › CLINTON EMAIL INVESTIGATION ...\n",
       "6166      Bitcoin Soars As China Launches Crackdown On...\n",
       "3743    BNI Store Oct 27 2016 GERMANY: Parents outrage...\n",
       "Name: text, Length: 5068, dtype: object"
      ]
     },
     "execution_count": 12,
     "metadata": {},
     "output_type": "execute_result"
    }
   ],
   "source": [
    "X_train"
   ]
  },
  {
   "cell_type": "code",
   "execution_count": 16,
   "id": "5dcae701",
   "metadata": {},
   "outputs": [],
   "source": [
    "vectorizer = TfidfVectorizer(stop_words=\"english\", max_df=0.7)\n",
    "X_train_vectorized = vectorizer.fit_transform(X_train)\n",
    "X_test_vectorized = vectorizer.transform(X_test)"
   ]
  },
  {
   "cell_type": "code",
   "execution_count": 17,
   "id": "25bed5a2",
   "metadata": {},
   "outputs": [
    {
     "name": "stderr",
     "output_type": "stream",
     "text": [
      "/Users/arslankamchybekov/anaconda3/lib/python3.11/site-packages/sklearn/svm/_classes.py:32: FutureWarning: The default value of `dual` will change from `True` to `'auto'` in 1.5. Set the value of `dual` explicitly to suppress the warning.\n",
      "  warnings.warn(\n"
     ]
    },
    {
     "data": {
      "text/html": [
       "<style>#sk-container-id-1 {color: black;}#sk-container-id-1 pre{padding: 0;}#sk-container-id-1 div.sk-toggleable {background-color: white;}#sk-container-id-1 label.sk-toggleable__label {cursor: pointer;display: block;width: 100%;margin-bottom: 0;padding: 0.3em;box-sizing: border-box;text-align: center;}#sk-container-id-1 label.sk-toggleable__label-arrow:before {content: \"▸\";float: left;margin-right: 0.25em;color: #696969;}#sk-container-id-1 label.sk-toggleable__label-arrow:hover:before {color: black;}#sk-container-id-1 div.sk-estimator:hover label.sk-toggleable__label-arrow:before {color: black;}#sk-container-id-1 div.sk-toggleable__content {max-height: 0;max-width: 0;overflow: hidden;text-align: left;background-color: #f0f8ff;}#sk-container-id-1 div.sk-toggleable__content pre {margin: 0.2em;color: black;border-radius: 0.25em;background-color: #f0f8ff;}#sk-container-id-1 input.sk-toggleable__control:checked~div.sk-toggleable__content {max-height: 200px;max-width: 100%;overflow: auto;}#sk-container-id-1 input.sk-toggleable__control:checked~label.sk-toggleable__label-arrow:before {content: \"▾\";}#sk-container-id-1 div.sk-estimator input.sk-toggleable__control:checked~label.sk-toggleable__label {background-color: #d4ebff;}#sk-container-id-1 div.sk-label input.sk-toggleable__control:checked~label.sk-toggleable__label {background-color: #d4ebff;}#sk-container-id-1 input.sk-hidden--visually {border: 0;clip: rect(1px 1px 1px 1px);clip: rect(1px, 1px, 1px, 1px);height: 1px;margin: -1px;overflow: hidden;padding: 0;position: absolute;width: 1px;}#sk-container-id-1 div.sk-estimator {font-family: monospace;background-color: #f0f8ff;border: 1px dotted black;border-radius: 0.25em;box-sizing: border-box;margin-bottom: 0.5em;}#sk-container-id-1 div.sk-estimator:hover {background-color: #d4ebff;}#sk-container-id-1 div.sk-parallel-item::after {content: \"\";width: 100%;border-bottom: 1px solid gray;flex-grow: 1;}#sk-container-id-1 div.sk-label:hover label.sk-toggleable__label {background-color: #d4ebff;}#sk-container-id-1 div.sk-serial::before {content: \"\";position: absolute;border-left: 1px solid gray;box-sizing: border-box;top: 0;bottom: 0;left: 50%;z-index: 0;}#sk-container-id-1 div.sk-serial {display: flex;flex-direction: column;align-items: center;background-color: white;padding-right: 0.2em;padding-left: 0.2em;position: relative;}#sk-container-id-1 div.sk-item {position: relative;z-index: 1;}#sk-container-id-1 div.sk-parallel {display: flex;align-items: stretch;justify-content: center;background-color: white;position: relative;}#sk-container-id-1 div.sk-item::before, #sk-container-id-1 div.sk-parallel-item::before {content: \"\";position: absolute;border-left: 1px solid gray;box-sizing: border-box;top: 0;bottom: 0;left: 50%;z-index: -1;}#sk-container-id-1 div.sk-parallel-item {display: flex;flex-direction: column;z-index: 1;position: relative;background-color: white;}#sk-container-id-1 div.sk-parallel-item:first-child::after {align-self: flex-end;width: 50%;}#sk-container-id-1 div.sk-parallel-item:last-child::after {align-self: flex-start;width: 50%;}#sk-container-id-1 div.sk-parallel-item:only-child::after {width: 0;}#sk-container-id-1 div.sk-dashed-wrapped {border: 1px dashed gray;margin: 0 0.4em 0.5em 0.4em;box-sizing: border-box;padding-bottom: 0.4em;background-color: white;}#sk-container-id-1 div.sk-label label {font-family: monospace;font-weight: bold;display: inline-block;line-height: 1.2em;}#sk-container-id-1 div.sk-label-container {text-align: center;}#sk-container-id-1 div.sk-container {/* jupyter's `normalize.less` sets `[hidden] { display: none; }` but bootstrap.min.css set `[hidden] { display: none !important; }` so we also need the `!important` here to be able to override the default hidden behavior on the sphinx rendered scikit-learn.org. See: https://github.com/scikit-learn/scikit-learn/issues/21755 */display: inline-block !important;position: relative;}#sk-container-id-1 div.sk-text-repr-fallback {display: none;}</style><div id=\"sk-container-id-1\" class=\"sk-top-container\"><div class=\"sk-text-repr-fallback\"><pre>LinearSVC()</pre><b>In a Jupyter environment, please rerun this cell to show the HTML representation or trust the notebook. <br />On GitHub, the HTML representation is unable to render, please try loading this page with nbviewer.org.</b></div><div class=\"sk-container\" hidden><div class=\"sk-item\"><div class=\"sk-estimator sk-toggleable\"><input class=\"sk-toggleable__control sk-hidden--visually\" id=\"sk-estimator-id-1\" type=\"checkbox\" checked><label for=\"sk-estimator-id-1\" class=\"sk-toggleable__label sk-toggleable__label-arrow\">LinearSVC</label><div class=\"sk-toggleable__content\"><pre>LinearSVC()</pre></div></div></div></div></div>"
      ],
      "text/plain": [
       "LinearSVC()"
      ]
     },
     "execution_count": 17,
     "metadata": {},
     "output_type": "execute_result"
    }
   ],
   "source": [
    "classifier = LinearSVC()\n",
    "classifier.fit(X_train_vectorized, y_train)"
   ]
  },
  {
   "cell_type": "code",
   "execution_count": 25,
   "id": "2a2998a3",
   "metadata": {},
   "outputs": [
    {
     "name": "stdout",
     "output_type": "stream",
     "text": [
      "The model accuracy is : 93.37016574585635\n"
     ]
    }
   ],
   "source": [
    "print('The model accuracy is :',classifier.score(X_test_vectorized, y_test)*100)"
   ]
  },
  {
   "cell_type": "code",
   "execution_count": 35,
   "id": "9f9e142d",
   "metadata": {},
   "outputs": [],
   "source": [
    "with open(\"mytext.txt\", \"w\", encoding=\"utf-8\") as f: \n",
    "    f.write(X_test.iloc[10])"
   ]
  },
  {
   "cell_type": "code",
   "execution_count": 36,
   "id": "c2b0070f",
   "metadata": {},
   "outputs": [],
   "source": [
    "with open(\"mytext.txt\", \"r\", encoding=\"utf-8\") as f: \n",
    "    text = f.read()"
   ]
  },
  {
   "cell_type": "code",
   "execution_count": 37,
   "id": "7b2895b4",
   "metadata": {},
   "outputs": [
    {
     "data": {
      "text/plain": [
       "'There\\'s a sense of growing optimism among Democrats that if Donald Trump is at the top of the ticket they might have a chance at what otherwise seems impossible: curtailing the GOP\\'s stranglehold on the US House of Representatives.\\n\\nThe fundamental landscape is deeply unfavorable to House Democrats. They\\'re down 30 seats and behind in fundraising with district boundaries drawn in such a way that winning a national majority of votes won\\'t deliver them a majority of seats. They need, fundamentally, something game-changing and weird to happen. And then, like magic, along comes Donald Trump, who happens to be weak in exactly the sort of Republican-leaning suburban districts they are hoping to peel away from the GOP.\\n\\n\"[Trump] makes districts that would have been hard-core tossup districts\" into ones that lean Democratic, and gives Democrats \"a little bit of a push\" in Republican-leaning districts across the country, according to Kelly Ward, the executive director of the Democratic Congressional Campaign Committee.\\n\\nIn a practical sense, the DCCC\\'s pre-Trump vision was heavily focused on the long-term planning of what they call The Majority Project, a multi-cycle effort to simultaneously improve the DCCC\\'s field and data infrastructure while understanding which districts are being made newly competitive by ongoing demographic change.\\n\\n\"Data shows us that Democrats are moving into Republican districts and making them more Democratic over time, as we look between now and 2020,\" DCCC chair Rep. Ben Ray Luján (D-NM) told me just before Trump\\'s Super Tuesday sweep. Post-sweep, Ward says, the Trump takeover \"accelerates this for us.\"\\n\\nFor a sense of exactly how lost and forlorn House Democrats were before Trump breathed new life into their hopes, it\\'s useful to look beyond the DCCC to the behavior of Maryland Rep. Chris Van Hollen. Himself a former DCCC chair, he was widely regarded as a likely successor to Nancy Pelosi as the Democrats\\' leader in the House, since the top two Dems behind her in the party hierarchy, Steny Hoyer and James Clyburn, are both quite old themselves.\\n\\nBut rather than hold on to a safe House seat and hope to sweep into the speakership, he chose to resign his seat in order to fight a tough contested primary for the Democratic nomination for an open Senate seat in Maryland — a clear indication that he saw no short-term path to significant gains in the House.\\n\\nAnd he\\'s not alone. House Democrats face two serious headwinds in their quest for a majority that they are essentially powerless to cure.\\n\\nThe first is that the map is simply very unfavorable to them. Back in 2012, Barack Obama won considerably more votes than Mitt Romney, but Romney actually carried more House districts. This is because Democrats, through a mix of partisan gerrymandering and natural geography, are more likely to be packed into lopsided districts. To win the House, they need a landslide, not just a win.\\n\\nThe second is that House landslides, when they happen, almost always hurt the incumbent president\\'s party.\\n\\nThe basic dilemma for a House minority whose party controls the presidency is that either people are generally happy with the status quo, in which case the president is likely to be popular but voters are unlikely to vote out tons of House incumbents, or else people are unhappy with the status quo, in which case the voters are likely to punish both the president and his co-partisans in the House.\\n\\nDemocrats\\' only real hope for 2016 is for something off-the-charts weird to happen in presidential politics. Something like, say, a vulgar real estate developer turned reality television host with scant record of involvement in the conservative movement erupting onto the scene with an under-developed policy agenda and a track-record of offensive statements and inflammatory rhetoric.\\n\\nIt is, of course, possible that if Trump secured the Republican nomination, he will prove himself to be an exceptionally skilled candidate who mops the floor with Hillary Clinton in ways we can barely imagine today. It is also possible that unpredictable events — terrorist attacks, foreign wars, financial crises — will impinge on the election in ways that badly damage Clinton\\'s hope. In either of those cases, House Democrats will be dragged down too.\\n\\nBut based on what we know of Trump so far, he seems likely to be a weak general election nominee who is weak specifically in areas that House Democrats see as growth possibilities.\\n\\nDemocrats\\' top targets are a series of suburban districts where Republican incumbents have retired, somewhat fatigued with the incessant inter-caucus warfare among House Republicans. These kind of districts — places like PA-8, MN-2, NV-3, NY-19 — are places whose Republican voters are disproportionately well-educated and supporting non-Trump candidates. Those are the voters most likely to be persuaded to swing to Clinton or just stay home as a reaction to GOP disunity in the face of Trumpism.\\n\\nMeanwhile, one crucial element of Democrats\\' larger focus has been on identifying areas where the Latino population is growing rapidly in ways that are likely to make them more competitive over the medium term.\\n\\nBut a big challenge Democrats traditionally face is that Hispanics punch below their weight in terms of actual voter turnout. Ward believes that \"turnout momentum that we could see among Hispanic voters because of Donald Trump could accelerate that competition.\" In general, she notes that Democrats win when turnout is high, and the media\\'s fascination with Trump is creating \"heightened electoral awareness\" in a way that should boost Democrats.\\n\\nSenate Majority Leader Mitch McConnell has, according to press reports, already privately told colleagues that his caucus will drop Trump \"like a hot rock\" if his presence at the top of the ticket seems to be hurting Senate candidates in New Hampshire, Florida, Wisconsin, and elsewhere.\\n\\nDropping your party\\'s presidential candidate is a tough trick to pull off for a Senate candidate, and it\\'s not clear that it\\'s at all possible in a House race.\\n\\nMost people, after all, simply don\\'t pay that much attention to their local member of Congress. Meanwhile, national media is overwhelmingly focused on the presidential race. Ward argues, plausibly, that the celebrity presence of Trump in the race should only exacerbate that tendency for presidential politics to crowd out everything else.\\n\\n\"Donald Trump will define this election as we have seen from day one,\" Ward says, \"he will dominate the attention and he will create the narrative of the election.\"'"
      ]
     },
     "execution_count": 37,
     "metadata": {},
     "output_type": "execute_result"
    }
   ],
   "source": [
    "text"
   ]
  },
  {
   "cell_type": "code",
   "execution_count": 38,
   "id": "569ca4b8",
   "metadata": {},
   "outputs": [],
   "source": [
    "vectorized_text = vectorizer.transform([text])"
   ]
  },
  {
   "cell_type": "code",
   "execution_count": 39,
   "id": "80554eab",
   "metadata": {},
   "outputs": [
    {
     "data": {
      "text/plain": [
       "array([0])"
      ]
     },
     "execution_count": 39,
     "metadata": {},
     "output_type": "execute_result"
    }
   ],
   "source": [
    "classifier.predict(vectorized_text)"
   ]
  },
  {
   "cell_type": "code",
   "execution_count": 40,
   "id": "7752fc6c",
   "metadata": {},
   "outputs": [
    {
     "data": {
      "text/plain": [
       "0"
      ]
     },
     "execution_count": 40,
     "metadata": {},
     "output_type": "execute_result"
    }
   ],
   "source": [
    "y_test.iloc[10]"
   ]
  },
  {
   "cell_type": "code",
   "execution_count": 42,
   "id": "72fc48f4",
   "metadata": {},
   "outputs": [],
   "source": [
    "text_check = \"Clinton Campaign Demands FBI Affirm Trump's Russia Ties With the 2016 election campaign winding down, the Clinton campaign is ratcheting up demands for the FBI to publicly confirm the campaign’s allegations that Republican nominee Donald Trump is secretly in league with Russia. Sen. Harry Reid (D – NV) went so far as to claim the FBI has secret “explosive” evidence of coordination between the Trump campaign and the Russian government that it is withholding. FBI officials familiar with their investigations into the allegations, which the Clinton campaign started publicizing around the Democratic National Convention, say they’ve turned up nothing to connect Trump and Russia , leading FBI Director James Comey to decide against making any statements to that effect. The Clinton campaign has been making the allegations so long that they have taken to claiming “everyone knows” that they are true, and appears unsettled by the FBI’s refusal to sign off on the claims simply because they haven’t been able to find real evidence corroborating the story. The Trump campaign has repeatedly denied ties to Russia, but that didn’t stop Clinton from calling Trump a “puppet” of Russian President Vladimir Putin during the final presidential debate. The calls have grown since Friday’s FBI report to Congress about further Clinton emails being sought. With Clinton’s main campaign scandal growing in the waning weeks of the deal, some in her campaign have suggested that affirming Trump as secretly in league with the Russians would only be fair. Absent any evidence, however, it appears that won’t be happening.\"\n",
    "\n",
    "with open(\"text_check.txt\", \"w\", encoding=\"utf-8\") as f: \n",
    "    f.write(text_check)"
   ]
  },
  {
   "cell_type": "code",
   "execution_count": 43,
   "id": "2d019ab3",
   "metadata": {},
   "outputs": [],
   "source": [
    "with open(\"text_check.txt\", \"r\", encoding=\"utf-8\") as f: \n",
    "    text_check = f.read()"
   ]
  },
  {
   "cell_type": "code",
   "execution_count": 44,
   "id": "2d8134ee",
   "metadata": {
    "scrolled": true
   },
   "outputs": [
    {
     "data": {
      "text/plain": [
       "\"Clinton Campaign Demands FBI Affirm Trump's Russia Ties With the 2016 election campaign winding down, the Clinton campaign is ratcheting up demands for the FBI to publicly confirm the campaign’s allegations that Republican nominee Donald Trump is secretly in league with Russia. Sen. Harry Reid (D – NV) went so far as to claim the FBI has secret “explosive” evidence of coordination between the Trump campaign and the Russian government that it is withholding. FBI officials familiar with their investigations into the allegations, which the Clinton campaign started publicizing around the Democratic National Convention, say they’ve turned up nothing to connect Trump and Russia , leading FBI Director James Comey to decide against making any statements to that effect. The Clinton campaign has been making the allegations so long that they have taken to claiming “everyone knows” that they are true, and appears unsettled by the FBI’s refusal to sign off on the claims simply because they haven’t been able to find real evidence corroborating the story. The Trump campaign has repeatedly denied ties to Russia, but that didn’t stop Clinton from calling Trump a “puppet” of Russian President Vladimir Putin during the final presidential debate. The calls have grown since Friday’s FBI report to Congress about further Clinton emails being sought. With Clinton’s main campaign scandal growing in the waning weeks of the deal, some in her campaign have suggested that affirming Trump as secretly in league with the Russians would only be fair. Absent any evidence, however, it appears that won’t be happening.\""
      ]
     },
     "execution_count": 44,
     "metadata": {},
     "output_type": "execute_result"
    }
   ],
   "source": [
    "text_check"
   ]
  },
  {
   "cell_type": "code",
   "execution_count": 45,
   "id": "777fe5ce",
   "metadata": {},
   "outputs": [],
   "source": [
    "vectorized_text_fake = vectorizer.transform([text_check])"
   ]
  },
  {
   "cell_type": "code",
   "execution_count": 46,
   "id": "98bd883a",
   "metadata": {},
   "outputs": [
    {
     "data": {
      "text/plain": [
       "array([1])"
      ]
     },
     "execution_count": 46,
     "metadata": {},
     "output_type": "execute_result"
    }
   ],
   "source": [
    "classifier.predict(vectorized_text_fake)"
   ]
  },
  {
   "cell_type": "code",
   "execution_count": null,
   "id": "71fe1f87",
   "metadata": {},
   "outputs": [],
   "source": []
  }
 ],
 "metadata": {
  "kernelspec": {
   "display_name": "Python 3 (ipykernel)",
   "language": "python",
   "name": "python3"
  },
  "language_info": {
   "codemirror_mode": {
    "name": "ipython",
    "version": 3
   },
   "file_extension": ".py",
   "mimetype": "text/x-python",
   "name": "python",
   "nbconvert_exporter": "python",
   "pygments_lexer": "ipython3",
   "version": "3.11.5"
  }
 },
 "nbformat": 4,
 "nbformat_minor": 5
}
